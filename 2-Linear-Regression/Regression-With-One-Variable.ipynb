{
 "cells": [
  {
   "cell_type": "markdown",
   "id": "c4e9b852",
   "metadata": {},
   "source": [
    "## Import Libraries"
   ]
  },
  {
   "cell_type": "code",
   "execution_count": null,
   "id": "2b862106",
   "metadata": {
    "ExecuteTime": {
     "end_time": "2022-10-19T08:25:40.395243Z",
     "start_time": "2022-10-19T08:25:39.780011Z"
    }
   },
   "outputs": [],
   "source": [
    "import numpy as np\n",
    "import pandas as pd\n",
    "import matplotlib.pyplot as plt"
   ]
  },
  {
   "cell_type": "markdown",
   "id": "4bc80442",
   "metadata": {},
   "source": [
    "## Read Data"
   ]
  },
  {
   "cell_type": "code",
   "execution_count": null,
   "id": "3eefa627",
   "metadata": {
    "ExecuteTime": {
     "end_time": "2022-10-19T08:26:09.031565Z",
     "start_time": "2022-10-19T08:26:09.023585Z"
    }
   },
   "outputs": [],
   "source": [
    "data = pd.read_csv (\n",
    "    filepath_or_buffer = 'data01.csv',\n",
    "    header = None,\n",
    "    names = ['Population', 'Profit']\n",
    ")"
   ]
  },
  {
   "cell_type": "code",
   "execution_count": null,
   "id": "0827af12",
   "metadata": {
    "ExecuteTime": {
     "end_time": "2022-10-19T08:26:14.852312Z",
     "start_time": "2022-10-19T08:26:14.842900Z"
    }
   },
   "outputs": [],
   "source": [
    "data.head()"
   ]
  },
  {
   "cell_type": "code",
   "execution_count": null,
   "id": "27883a45",
   "metadata": {
    "ExecuteTime": {
     "end_time": "2022-10-19T08:26:28.603276Z",
     "start_time": "2022-10-19T08:26:28.451545Z"
    }
   },
   "outputs": [],
   "source": [
    "data.plot (\n",
    "    kind = 'scatter',\n",
    "    x = 'Population',\n",
    "    y = 'Profit',\n",
    "    figsize = (5,5)\n",
    ")"
   ]
  },
  {
   "cell_type": "code",
   "execution_count": null,
   "id": "2389c09c",
   "metadata": {
    "ExecuteTime": {
     "end_time": "2022-10-19T08:26:40.205896Z",
     "start_time": "2022-10-19T08:26:40.200581Z"
    }
   },
   "outputs": [],
   "source": [
    "data.insert(0, 'X1', 1)"
   ]
  },
  {
   "cell_type": "code",
   "execution_count": null,
   "id": "c2c117cb",
   "metadata": {
    "ExecuteTime": {
     "end_time": "2022-10-19T08:28:14.900000Z",
     "start_time": "2022-10-19T08:28:14.895395Z"
    }
   },
   "outputs": [],
   "source": [
    "cols = data.shape[1]\n",
    "X = data.iloc[:, 0 : cols - 1]\n",
    "y = data.iloc[:, cols - 1 : cols]"
   ]
  },
  {
   "cell_type": "code",
   "execution_count": null,
   "id": "b5e98184",
   "metadata": {
    "ExecuteTime": {
     "end_time": "2022-10-19T08:27:50.510796Z",
     "start_time": "2022-10-19T08:27:50.505484Z"
    }
   },
   "outputs": [],
   "source": [
    "X.head()"
   ]
  },
  {
   "cell_type": "code",
   "execution_count": null,
   "id": "2ddf2c38",
   "metadata": {
    "ExecuteTime": {
     "end_time": "2022-10-19T08:27:54.000293Z",
     "start_time": "2022-10-19T08:27:53.992952Z"
    }
   },
   "outputs": [],
   "source": [
    "y.head()"
   ]
  },
  {
   "cell_type": "code",
   "execution_count": null,
   "id": "649614f3",
   "metadata": {
    "ExecuteTime": {
     "end_time": "2022-10-19T08:28:18.204775Z",
     "start_time": "2022-10-19T08:28:18.198003Z"
    }
   },
   "outputs": [],
   "source": [
    "theta = np.matrix(np.zeros((1,X.shape[1])))\n",
    "X = np.matrix(X.values)\n",
    "y = np.matrix(y.values)"
   ]
  },
  {
   "cell_type": "code",
   "execution_count": null,
   "id": "d3fbb3e2",
   "metadata": {
    "ExecuteTime": {
     "end_time": "2022-10-19T08:28:22.564246Z",
     "start_time": "2022-10-19T08:28:22.558489Z"
    }
   },
   "outputs": [],
   "source": [
    "def computeCost(X, y, theta):\n",
    "    '''\n",
    "    Cost Function J(thetas) = ( sum ( h(xi) - yi ) ^ 2 ) / 2 * m\n",
    "    '''\n",
    "    z = np.power(((X * theta.T) - y), 2)\n",
    "    return np.sum(z) / (2 * len(X))"
   ]
  },
  {
   "cell_type": "code",
   "execution_count": null,
   "id": "fac99203",
   "metadata": {
    "ExecuteTime": {
     "end_time": "2022-10-19T08:28:27.068104Z",
     "start_time": "2022-10-19T08:28:27.060192Z"
    }
   },
   "outputs": [],
   "source": [
    "def gradientDescent(X, y, theta, alpha, iters):\n",
    "    temp = np.matrix(np.zeros(theta.shape))   # new thetas\n",
    "    parameters = int(theta.ravel().shape[1])  # no. of features\n",
    "    cost = np.zeros(iters)                    # each iteration cost\n",
    "    \n",
    "    for i in range(iters):\n",
    "        error = (X * theta.T) - y\n",
    "        \n",
    "        for j in range(parameters):\n",
    "            term = np.multiply(error, X[:,j])\n",
    "            temp[0,j] = theta[0,j] - ((alpha / len(X)) * np.sum(term))\n",
    "            \n",
    "        theta = temp\n",
    "        cost[i] = computeCost(X, y, theta)\n",
    "        \n",
    "    return theta, cost"
   ]
  },
  {
   "cell_type": "markdown",
   "id": "cb91a867",
   "metadata": {},
   "source": [
    "## Train Model"
   ]
  },
  {
   "cell_type": "code",
   "execution_count": null,
   "id": "a8c97975",
   "metadata": {
    "ExecuteTime": {
     "end_time": "2022-10-19T08:28:29.904960Z",
     "start_time": "2022-10-19T08:28:29.902453Z"
    }
   },
   "outputs": [],
   "source": [
    "alpha = 1/100\n",
    "iters = 1000"
   ]
  },
  {
   "cell_type": "code",
   "execution_count": null,
   "id": "ee6b5585",
   "metadata": {
    "ExecuteTime": {
     "end_time": "2022-10-19T08:28:30.402923Z",
     "start_time": "2022-10-19T08:28:30.343274Z"
    }
   },
   "outputs": [],
   "source": [
    "g, cost = gradientDescent(X, y, theta, alpha, iters)"
   ]
  },
  {
   "cell_type": "markdown",
   "id": "ff5eb2ac",
   "metadata": {},
   "source": [
    "## Visualize Model"
   ]
  },
  {
   "cell_type": "code",
   "execution_count": null,
   "id": "3f53b749",
   "metadata": {
    "ExecuteTime": {
     "end_time": "2022-10-19T08:29:51.925903Z",
     "start_time": "2022-10-19T08:29:51.920011Z"
    }
   },
   "outputs": [],
   "source": [
    "x = np.linspace(data.Population.min(), data.Population.max(), 100)\n",
    "f = g[0, 0] + (g[0, 1] * x) # F(x) = theta0 + theta1 * X1"
   ]
  },
  {
   "cell_type": "code",
   "execution_count": null,
   "id": "9e583375",
   "metadata": {
    "ExecuteTime": {
     "end_time": "2022-10-19T08:29:54.366324Z",
     "start_time": "2022-10-19T08:29:54.210590Z"
    }
   },
   "outputs": [],
   "source": [
    "fig, ax = plt.subplots(figsize=(5,5))\n",
    "ax.plot(x, f, 'r', label='Prediction')\n",
    "ax.scatter(data.Population, data.Profit, label='Traning Data')\n",
    "ax.legend(loc=2)\n",
    "ax.set_xlabel('Population')\n",
    "ax.set_ylabel('Profit')\n",
    "ax.set_title('Predicted Profit vs. Population Size')"
   ]
  },
  {
   "cell_type": "code",
   "execution_count": null,
   "id": "daf3e8cc",
   "metadata": {
    "ExecuteTime": {
     "end_time": "2022-10-19T08:29:57.891278Z",
     "start_time": "2022-10-19T08:29:57.772843Z"
    }
   },
   "outputs": [],
   "source": [
    "fig, ax = plt.subplots(figsize=(5,5))\n",
    "ax.plot(np.arange(iters), cost, 'r')\n",
    "ax.set_xlabel('Iterations')\n",
    "ax.set_ylabel('Cost')\n",
    "ax.set_title('Error vs. Training Epoch')"
   ]
  }
 ],
 "metadata": {
  "kernelspec": {
   "display_name": "Python 3 (ipykernel)",
   "language": "python",
   "name": "python3"
  },
  "language_info": {
   "codemirror_mode": {
    "name": "ipython",
    "version": 3
   },
   "file_extension": ".py",
   "mimetype": "text/x-python",
   "name": "python",
   "nbconvert_exporter": "python",
   "pygments_lexer": "ipython3",
   "version": "3.9.13"
  }
 },
 "nbformat": 4,
 "nbformat_minor": 5
}
