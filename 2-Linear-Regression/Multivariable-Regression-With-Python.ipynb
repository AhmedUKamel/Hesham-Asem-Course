{
 "cells": [
  {
   "cell_type": "markdown",
   "id": "48f36173",
   "metadata": {},
   "source": [
    "## Import Libraries"
   ]
  },
  {
   "cell_type": "code",
   "execution_count": null,
   "id": "81470c4e",
   "metadata": {
    "ExecuteTime": {
     "end_time": "2022-10-19T08:35:15.792931Z",
     "start_time": "2022-10-19T08:35:15.163580Z"
    }
   },
   "outputs": [],
   "source": [
    "import numpy as np\n",
    "import pandas as pd\n",
    "import matplotlib.pyplot as plt"
   ]
  },
  {
   "cell_type": "markdown",
   "id": "d0c73078",
   "metadata": {},
   "source": [
    "## Read Data"
   ]
  },
  {
   "cell_type": "code",
   "execution_count": null,
   "id": "0afb0269",
   "metadata": {
    "ExecuteTime": {
     "end_time": "2022-10-19T08:35:15.798578Z",
     "start_time": "2022-10-19T08:35:15.794232Z"
    }
   },
   "outputs": [],
   "source": [
    "data = pd.read_csv (\n",
    "    filepath_or_buffer = 'data02.csv', \n",
    "    header = None, \n",
    "    names = ['Size', 'Bedrooms', 'Price']\n",
    ")"
   ]
  },
  {
   "cell_type": "markdown",
   "id": "d36454d9",
   "metadata": {},
   "source": [
    "## Rescaling Data"
   ]
  },
  {
   "cell_type": "code",
   "execution_count": null,
   "id": "66e1e643",
   "metadata": {
    "ExecuteTime": {
     "end_time": "2022-10-19T08:35:15.803343Z",
     "start_time": "2022-10-19T08:35:15.799793Z"
    }
   },
   "outputs": [],
   "source": [
    "data = (data - data.mean()) / data.std()"
   ]
  },
  {
   "cell_type": "code",
   "execution_count": null,
   "id": "31f773f3",
   "metadata": {
    "ExecuteTime": {
     "end_time": "2022-10-19T08:35:15.807259Z",
     "start_time": "2022-10-19T08:35:15.804949Z"
    }
   },
   "outputs": [],
   "source": [
    "data.insert(0, 'X0', 1)"
   ]
  },
  {
   "cell_type": "code",
   "execution_count": null,
   "id": "416123fa",
   "metadata": {
    "ExecuteTime": {
     "end_time": "2022-10-19T08:35:15.818296Z",
     "start_time": "2022-10-19T08:35:15.808779Z"
    }
   },
   "outputs": [],
   "source": [
    "data.head(10)"
   ]
  },
  {
   "cell_type": "code",
   "execution_count": null,
   "id": "541539af",
   "metadata": {
    "ExecuteTime": {
     "end_time": "2022-10-19T08:35:15.822523Z",
     "start_time": "2022-10-19T08:35:15.819449Z"
    }
   },
   "outputs": [],
   "source": [
    "cols = data.shape[1]\n",
    "X = data.iloc[:,0:cols-1]\n",
    "y = data.iloc[:,cols-1:cols]"
   ]
  },
  {
   "cell_type": "code",
   "execution_count": null,
   "id": "ba0da611",
   "metadata": {
    "ExecuteTime": {
     "end_time": "2022-10-19T08:35:15.828160Z",
     "start_time": "2022-10-19T08:35:15.823659Z"
    }
   },
   "outputs": [],
   "source": [
    "X.head()"
   ]
  },
  {
   "cell_type": "code",
   "execution_count": null,
   "id": "c2e45733",
   "metadata": {
    "ExecuteTime": {
     "end_time": "2022-10-19T08:35:15.833378Z",
     "start_time": "2022-10-19T08:35:15.829068Z"
    }
   },
   "outputs": [],
   "source": [
    "y.head()"
   ]
  },
  {
   "cell_type": "code",
   "execution_count": null,
   "id": "2d46c7cd",
   "metadata": {
    "ExecuteTime": {
     "end_time": "2022-10-19T08:35:15.837122Z",
     "start_time": "2022-10-19T08:35:15.834670Z"
    }
   },
   "outputs": [],
   "source": [
    "theta = np.matrix(np.zeros((1, X.shape[1])))\n",
    "X = np.matrix(X.values)\n",
    "y = np.matrix(y.values)"
   ]
  },
  {
   "cell_type": "code",
   "execution_count": null,
   "id": "d6bb94a2",
   "metadata": {
    "ExecuteTime": {
     "end_time": "2022-10-19T08:35:15.841374Z",
     "start_time": "2022-10-19T08:35:15.839232Z"
    }
   },
   "outputs": [],
   "source": [
    "def computeCost(X, y, theta):\n",
    "    inner = np.power(((X * theta.T) - y), 2)\n",
    "    return np.sum(inner) / (2 * len(X))"
   ]
  },
  {
   "cell_type": "code",
   "execution_count": null,
   "id": "16bd0c94",
   "metadata": {
    "ExecuteTime": {
     "end_time": "2022-10-19T08:35:15.845685Z",
     "start_time": "2022-10-19T08:35:15.842346Z"
    }
   },
   "outputs": [],
   "source": [
    "def gradientDescent(X, y, theta, alpha, iters):\n",
    "    temp = np.matrix(np.zeros(theta.shape))\n",
    "    parameters = int(theta.ravel().shape[1])\n",
    "    cost = np.zeros(iters)\n",
    "    \n",
    "    for i in range(iters):\n",
    "        error = (X * theta.T) - y\n",
    "        \n",
    "        for j in range(parameters):\n",
    "            term = np.multiply(error, X[:,j])\n",
    "            temp[0,j] = theta[0,j] - ((alpha / len(X)) * np.sum(term))\n",
    "            \n",
    "        theta = temp\n",
    "        cost[i] = computeCost(X, y, theta)\n",
    "        \n",
    "    return theta, cost"
   ]
  },
  {
   "cell_type": "markdown",
   "id": "5138d942",
   "metadata": {},
   "source": [
    "## Train Model"
   ]
  },
  {
   "cell_type": "code",
   "execution_count": null,
   "id": "0e160159",
   "metadata": {
    "ExecuteTime": {
     "end_time": "2022-10-19T08:35:15.848936Z",
     "start_time": "2022-10-19T08:35:15.846592Z"
    }
   },
   "outputs": [],
   "source": [
    "alpha = 1/10\n",
    "iters = 100"
   ]
  },
  {
   "cell_type": "code",
   "execution_count": null,
   "id": "368bdaea",
   "metadata": {
    "ExecuteTime": {
     "end_time": "2022-10-19T08:35:15.859763Z",
     "start_time": "2022-10-19T08:35:15.849933Z"
    }
   },
   "outputs": [],
   "source": [
    "g, cost = gradientDescent(X, y, theta, alpha, iters)"
   ]
  },
  {
   "cell_type": "code",
   "execution_count": null,
   "id": "6fb38663",
   "metadata": {
    "ExecuteTime": {
     "end_time": "2022-10-19T08:35:15.863060Z",
     "start_time": "2022-10-19T08:35:15.861023Z"
    }
   },
   "outputs": [],
   "source": [
    "thiscost = computeCost(X, y, g)"
   ]
  },
  {
   "cell_type": "markdown",
   "id": "f992c8c0",
   "metadata": {},
   "source": [
    "## Visualize Model"
   ]
  },
  {
   "cell_type": "code",
   "execution_count": null,
   "id": "2ab45dee",
   "metadata": {
    "ExecuteTime": {
     "end_time": "2022-10-19T08:35:15.866825Z",
     "start_time": "2022-10-19T08:35:15.864121Z"
    }
   },
   "outputs": [],
   "source": [
    "x = np.linspace(data.Size.min(), data.Size.max(), 100)\n",
    "f = g[0, 0] + (g[0, 1] * x)"
   ]
  },
  {
   "cell_type": "code",
   "execution_count": null,
   "id": "02c353bc",
   "metadata": {
    "ExecuteTime": {
     "end_time": "2022-10-19T08:35:16.002166Z",
     "start_time": "2022-10-19T08:35:15.868144Z"
    }
   },
   "outputs": [],
   "source": [
    "fig, ax = plt.subplots(figsize=(5,5))\n",
    "ax.plot(x, f, 'r', label='Prediction')\n",
    "ax.scatter(data.Size, data.Price, label='Training Data')\n",
    "ax.legend(loc=2)\n",
    "ax.set_xlabel('Size')\n",
    "ax.set_ylabel('Price')\n",
    "ax.set_title('Size vs. Price')"
   ]
  },
  {
   "cell_type": "code",
   "execution_count": null,
   "id": "a52a70ec",
   "metadata": {
    "ExecuteTime": {
     "end_time": "2022-10-19T08:35:16.103757Z",
     "start_time": "2022-10-19T08:35:16.004021Z"
    }
   },
   "outputs": [],
   "source": [
    "fig, ax = plt.subplots(figsize=(5,5))\n",
    "ax.plot(x, f, 'r', label='Prediction')\n",
    "ax.scatter(data.Bedrooms, data.Price, label='Traning Data')\n",
    "ax.legend(loc=2)\n",
    "ax.set_xlabel('Bedrooms')\n",
    "ax.set_ylabel('Price')\n",
    "ax.set_title('Bedrooms vs. Price')"
   ]
  },
  {
   "cell_type": "code",
   "execution_count": null,
   "id": "79b601a5",
   "metadata": {
    "ExecuteTime": {
     "end_time": "2022-10-19T08:35:16.109392Z",
     "start_time": "2022-10-19T08:35:16.105652Z"
    }
   },
   "outputs": [],
   "source": [
    "x = np.linspace(data.Bedrooms.min(), data.Bedrooms.max(), 100)\n",
    "f = g[0, 0] + (g[0, 1] * x)"
   ]
  },
  {
   "cell_type": "code",
   "execution_count": null,
   "id": "c3a7ac95",
   "metadata": {
    "ExecuteTime": {
     "end_time": "2022-10-19T08:35:16.189170Z",
     "start_time": "2022-10-19T08:35:16.110795Z"
    }
   },
   "outputs": [],
   "source": [
    "fig, ax = plt.subplots(figsize=(5,5))\n",
    "ax.plot(np.arange(iters), cost, 'r')\n",
    "ax.set_xlabel('Iterations')\n",
    "ax.set_ylabel('Cost')\n",
    "ax.set_title('Error vs. Training Epoch')"
   ]
  }
 ],
 "metadata": {
  "kernelspec": {
   "display_name": "Python 3 (ipykernel)",
   "language": "python",
   "name": "python3"
  },
  "language_info": {
   "codemirror_mode": {
    "name": "ipython",
    "version": 3
   },
   "file_extension": ".py",
   "mimetype": "text/x-python",
   "name": "python",
   "nbconvert_exporter": "python",
   "pygments_lexer": "ipython3",
   "version": "3.9.13"
  }
 },
 "nbformat": 4,
 "nbformat_minor": 5
}
